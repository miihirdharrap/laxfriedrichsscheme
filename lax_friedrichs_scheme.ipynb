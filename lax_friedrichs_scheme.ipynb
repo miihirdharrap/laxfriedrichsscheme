{
  "cells": [
    {
      "cell_type": "markdown",
      "metadata": {
        "id": "lpSY9mPDJpRH"
      },
      "source": [
        "Note :- Create a $copy$ of the notebook in your 'Personal Drive' and then run the .ipynb file."
      ]
    },
    {
      "cell_type": "code",
      "execution_count": null,
      "metadata": {
        "id": "gFJpccir35py"
      },
      "outputs": [],
      "source": [
        "pip install plotly"
      ]
    },
    {
      "cell_type": "code",
      "execution_count": 2,
      "metadata": {
        "id": "jzl3F5pD6Lvt"
      },
      "outputs": [],
      "source": [
        "#import all the necessary libraries\n",
        "import numpy as np\n",
        "import matplotlib.pyplot as plt\n",
        "import pandas as pd\n",
        "from scipy.optimize import curve_fit\n",
        "import math\n",
        "import plotly.graph_objs as go"
      ]
    },
    {
      "cell_type": "code",
      "execution_count": null,
      "metadata": {
        "id": "V6rpwAvf7F0V"
      },
      "outputs": [],
      "source": [
        "\"\"\"\n",
        "to print the dataframe as a string output :- print(df.to_string())\n",
        "to convert the pandas datafram to numpy array :- points = df[[\"Density\",\"Flow\"]].to_numpy()\n",
        "\"\"\"\n",
        "\n",
        "d =  pd.read_csv('/content/Data/Zurich - Sheet1.csv')\n",
        "df = pd.DataFrame(d, columns=['Density', 'Flow'])\n",
        "points = df.to_numpy()\n",
        "\n",
        "df.head()"
      ]
    },
    {
      "cell_type": "code",
      "execution_count": 4,
      "metadata": {
        "id": "Oc5JOvFBqa2f"
      },
      "outputs": [],
      "source": [
        "#The following function splits the numpy ndarray into 2 1 dimensional arrays as the coordinates to the plot\n",
        "def extract_coordinates(arr):\n",
        "    return arr[:,0], arr[:,1]"
      ]
    },
    {
      "cell_type": "code",
      "execution_count": null,
      "metadata": {
        "id": "_uHMltuh5TYS"
      },
      "outputs": [],
      "source": [
        "'''\n",
        "Note that here I have choosen to cut the dataset into two parts at density = 17.5 veh/km.\n",
        "The only argument to support this choice of density is \n",
        "to reduce the std error while fitting the curve onto the dataset.\n",
        "'''\n",
        "\n",
        "#Plotting the data\n",
        "x, y = extract_coordinates(points)\n",
        "\n",
        "#overall graph\n",
        "plt.scatter(x, y)\n",
        "plt.show()\n",
        "\n",
        "print('\\n')\n",
        "\n",
        "#first fiting line\n",
        "plt.scatter(x, y)\n",
        "plt.xlim((0, 17.5))\n",
        "plt.show()\n",
        "\n",
        "print('\\n')\n",
        "\n",
        "#second fitting line\n",
        "plt.scatter(x, y)\n",
        "plt.xlim((17.5, 100))\n",
        "plt.show()"
      ]
    },
    {
      "cell_type": "markdown",
      "metadata": {
        "id": "_YD6UN8Hcwx3"
      },
      "source": [
        "This block $splits$ the given data into two $manually$ $choosen$ halves so as to fit two curves"
      ]
    },
    {
      "cell_type": "code",
      "execution_count": 6,
      "metadata": {
        "colab": {
          "base_uri": "https://localhost:8080/"
        },
        "id": "Cs8Z5buk6uki",
        "outputId": "ba01dffc-dc9b-4f44-b754-3b7f184e30e7"
      },
      "outputs": [
        {
          "output_type": "execute_result",
          "data": {
            "text/plain": [
              "(343, 136)"
            ]
          },
          "metadata": {},
          "execution_count": 6
        }
      ],
      "source": [
        "points1 = []\n",
        "points2 = []\n",
        "for i in points:\n",
        "    if i[0] <= 17.5:\n",
        "        points1.append(i)\n",
        "    else:\n",
        "        points2.append(i)\n",
        "set1 = np.array(points1)\n",
        "set2 = np.array(points2)\n",
        "\n",
        "type(set2)\n",
        "len(set1), len(set2)"
      ]
    },
    {
      "cell_type": "markdown",
      "metadata": {
        "id": "eKh4B8SUotV1"
      },
      "source": [
        "# Fitting a line to both parts of the data set using scipy curve_fit\n"
      ]
    },
    {
      "cell_type": "code",
      "execution_count": null,
      "metadata": {
        "id": "Cat7rkIR7x-H"
      },
      "outputs": [],
      "source": [
        "'''\n",
        "This is an alternative approach, \n",
        "leads to a higher variance for this case\n",
        "Can be used but not recommended\n",
        "'''\n",
        "def fit_set1(x_s1, m, c):\n",
        "    y = m*x_s1 + c\n",
        "    return y\n",
        "\n",
        "#Extracting the coordinates\n",
        "x_s1, y_s1 = extract_coordinates(set1)\n",
        "\n",
        "#using the curve fit library to fit the curve to the dataset\n",
        "parameters_s1, covariance = curve_fit(fit_set1, x_s1, y_s1, p0= [32, 52])\n",
        "m_s1 = parameters_s1[0]\n",
        "c_s1 = parameters_s1[1]\n",
        "print('m = ', m_s1, ' c = ', c_s1)\n",
        "print(F'The equation is y = {m_s1:.5f}x + {c_s1:.5f}')\n",
        "\n",
        "#plotting the fit\n",
        "fit_y = fit_set1(x_s1, m_s1, c_s1)\n",
        "plt.plot(x_s1, y_s1, 'o', label='data')\n",
        "plt.plot(x_s1, fit_y, label='fit')\n",
        "plt.legend()\n",
        "\n",
        "#evaluating the error\n",
        "SE = np.sqrt(np.diag(covariance))\n",
        "SE_A = SE[0]\n",
        "SE_B = SE[1]\n",
        "print(F'The value of A is {m_s1:.5f} with standard error of {SE_A:.5f}.')\n",
        "print(F'The value of B is {c_s1:.5f} with standard error of {SE_B:.5f}.')\n",
        "\n",
        "y_predicted = fit_set1(x_s1, m_s1, c_s1)\n",
        "var_cf1 = np.sum(np.square(y_s1 - y_predicted))\n",
        "print(\"The variance observed in this curve is: \", var_cf1)"
      ]
    },
    {
      "cell_type": "code",
      "execution_count": null,
      "metadata": {
        "id": "IpdUue4Nwnu5"
      },
      "outputs": [],
      "source": [
        "def fit_set2(x_s2, m, c):\n",
        "    y_s2 = m*x_s2 + c\n",
        "    return y_s2\n",
        "\n",
        "#Extracting the coordinates\n",
        "x_s2, y_s2 = extract_coordinates(set2)\n",
        "\n",
        "#using the curve fit library to fit the curve to the dataset\n",
        "parameters_s2, covariance = curve_fit(fit_set2, x_s2, y_s2)\n",
        "m_s2 = parameters_s2[0]\n",
        "c_s2 = parameters_s2[1]\n",
        "print('m = ', m_s2, ' c = ', c_s2)\n",
        "print(F'The equation is y = {m_s2:.5f}x**p + {c_s2:.5f}')\n",
        "\n",
        "#plotting the fit\n",
        "fit_y = fit_set2(x_s2, m_s2, c_s2)\n",
        "plt.plot(x_s2, y_s2, 'o', label='data')\n",
        "plt.plot(x_s2, fit_y, label='fit')\n",
        "plt.legend()\n",
        "\n",
        "#evaluating the error\n",
        "SE = np.sqrt(np.diag(covariance))\n",
        "SE_A = SE[0]\n",
        "SE_B = SE[1]\n",
        "print(F'The value of A is {m_s2:.5f} with standard error of {SE_A:.5f}.')\n",
        "print(F'The value of B is {c_s2:.5f} with standard error of {SE_B:.5f}.')\n",
        "\n",
        "y_predicted2 = fit_set2(x_s2, m_s2, c_s2)\n",
        "var_cf2 = np.sum(np.square(y_s2 - y_predicted2))\n",
        "print(\"The variance observed in this curve is: \", var_cf2)"
      ]
    },
    {
      "cell_type": "markdown",
      "metadata": {
        "id": "PnPSZ_pvANs_"
      },
      "source": [
        "# Fitting the data set using numpy polyfit :- $degree$ $2$ $polynomial$"
      ]
    },
    {
      "cell_type": "code",
      "execution_count": null,
      "metadata": {
        "id": "fpNGfJs8_C3e"
      },
      "outputs": [],
      "source": [
        "#The ployfit library in python is used to fit a degree 2 polynomial to the given dataset\n",
        "#The fit looks better that curve_fit and has lesser variance than earlier fir\n",
        "\n",
        "xp, yp = extract_coordinates(set1)\n",
        "trend = np.polyfit(xp, yp, 2)\n",
        "print(\"The Parameters of the quadratic are :- \", trend)\n",
        "plt.plot(xp, yp,'o', label='data')\n",
        "trendpoly = np.poly1d(trend)\n",
        "plt.plot(xp, trendpoly(xp), label='trend')\n",
        "plt.legend()\n",
        "\n",
        "def f_set1(xp):\n",
        "    y = trend[0]*(xp**2) + trend[1]*xp + trend[2]\n",
        "    return y\n",
        "y_predicted = f_set1(xp)\n",
        "variance1 = np.sum(np.square(yp - y_predicted))\n",
        "print(\"The variance observed in this curve is: \", variance1)"
      ]
    },
    {
      "cell_type": "code",
      "execution_count": null,
      "metadata": {
        "id": "pesIjqv95xyF"
      },
      "outputs": [],
      "source": [
        "xp2, yp2 = extract_coordinates(set2)\n",
        "trend2 = np.polyfit(xp2, yp2, 2)\n",
        "print(\"The Parameters of the quadratic are :- \", trend2)\n",
        "plt.plot(xp2, yp2,'o', label='data')\n",
        "trendpoly = np.poly1d(trend2)\n",
        "plt.plot(xp2, trendpoly(xp2), label='trend2')\n",
        "plt.legend()\n",
        "\n",
        "def f_set2(xp2):\n",
        "    y = trend2[0]*(xp2**2) + trend2[1]*xp2 + trend2[2]\n",
        "    return y\n",
        "y_predicted2 = f_set2(xp2)\n",
        "variance2 = np.sum(np.square(yp2 - y_predicted2))\n",
        "print(\"The variance observed in this curve is: \", variance2)"
      ]
    },
    {
      "cell_type": "markdown",
      "source": [
        "Using $curve$_$fit$ and $polyfit$ we can see that the variance is **Lesser** when we try and implement $POLYFIT$, \n",
        "so I have implemented the polyfit equations in the lax-friedrichs scheme"
      ],
      "metadata": {
        "id": "DaXFnTcKS35V"
      }
    },
    {
      "cell_type": "markdown",
      "metadata": {
        "id": "hWp8xzk1b0u7"
      },
      "source": [
        "Applying $LAX$ $FRIEDRICHS$ $SCHEME$ to the space time diagram to simulate the traffic propagation on the road length"
      ]
    },
    {
      "cell_type": "code",
      "execution_count": 11,
      "metadata": {
        "id": "xuFuymYvw6tw"
      },
      "outputs": [],
      "source": [
        "'''\n",
        "initially we need to define the initial conditions and the boundary conditions\n",
        "Here I am rewriting the cell st_curve[0][0] to have 0 density assuming the boundary condition to be true\n",
        "This rewriting is done due to ambiguity that there are 2 values of density assigned to the same cell.\n",
        "'''\n",
        "st_curve = np.zeros(shape=(200,1500), dtype=float, order='C')\n",
        "# depending upon the initial condition the FIRST COLUMN in the st_curve matrix is filled\n",
        "for i in range(200):\n",
        "    if i > 100:\n",
        "        st_curve[i][0] = 50\n",
        "    elif i <= 100 and i >= 50:\n",
        "        st_curve[i][0] = 350\n",
        "    else:\n",
        "        i_y = 7*i\n",
        "        st_curve[i][0] = i_y\n",
        "\n",
        "# depending upon the boundary condition the LAST ROW in the st_curve matrix is filled\n",
        "for i in range(1500):\n",
        "    if i > 333:\n",
        "        st_curve[199][i] = 50\n",
        "    elif i > 166 and i < 333:\n",
        "        st_curve[199][i] = 75\n",
        "    else:\n",
        "        st_curve[199][i] = 0"
      ]
    },
    {
      "cell_type": "code",
      "execution_count": 12,
      "metadata": {
        "id": "9hohiSMTMfp8"
      },
      "outputs": [],
      "source": [
        "'''\n",
        "After that we apply the formula over the space-time plot to calculate the propogation of the traffic throughout space-time\n",
        "here depending upon the density at each location if it is more than 17.5 veh/km we call the second function that we fit earlier\n",
        "else we fit the first function.\n",
        "By first and second function I mean, the first fitted part and the second fitted part of the given dataset\n",
        "'''\n",
        "val1 = 0\n",
        "val2 = 0\n",
        "\n",
        "for i in range(1, 1500):\n",
        "    for j in range(198, -1, -1):\n",
        "        if st_curve[j+1][i-1] > 17.5:\n",
        "            val1 = f_set2(st_curve[j-1][i-1])\n",
        "        elif st_curve[j+1][i-1] <= 17.5:\n",
        "            val1 = f_set1(st_curve[j-1][i-1])\n",
        "        \n",
        "        if st_curve[j-1][i-1] > 17.5:\n",
        "            val2 = f_set2(st_curve[j+1][i-1])\n",
        "        elif st_curve[j-1][i-1] <= 17.5:\n",
        "            val2 = f_set1(st_curve[j+1][i-1])\n",
        "\n",
        "        term1 = ((st_curve[j+1][i-1] + st_curve[j-1][i-1])/2)\n",
        "\n",
        "        term2 = (val1 - val2)\n",
        "\n",
        "        st_curve[j][i] = term1 - 0.005*term2"
      ]
    },
    {
      "cell_type": "code",
      "execution_count": 13,
      "metadata": {
        "id": "tfrpn_2UtT62"
      },
      "outputs": [],
      "source": [
        "#This is convert a matrix to csv file to manually observe the propagation of traffic\n",
        "import csv\n",
        "\n",
        "with open('lax_friedrichs.csv','w') as f:\n",
        "    writer = csv.writer(f)\n",
        "    writer.writerows(st_curve)"
      ]
    },
    {
      "cell_type": "code",
      "execution_count": null,
      "metadata": {
        "id": "XxIOW9oRpyNc"
      },
      "outputs": [],
      "source": [
        "# Generate x, y, and z coordinates\n",
        "x = np.arange(st_curve.shape[1])  # space dimension\n",
        "y = np.arange(st_curve.shape[0])  # time dimension\n",
        "X, Y = np.meshgrid(x, y)\n",
        "Z = st_curve\n",
        "\n",
        "# Create trace\n",
        "trace = go.Surface(\n",
        "    x=X,\n",
        "    y=Y,\n",
        "    z=Z,\n",
        ")\n",
        "\n",
        "# Create layout\n",
        "layout = go.Layout(\n",
        "    scene=dict(\n",
        "        xaxis_title='Time',\n",
        "        yaxis_title='Space',\n",
        "        zaxis_title='Density',\n",
        "    ),\n",
        ")\n",
        "\n",
        "# Create figure\n",
        "fig = go.Figure(data=[trace], layout=layout)\n",
        "\n",
        "# Show figure\n",
        "fig.show()"
      ]
    },
    {
      "cell_type": "code",
      "execution_count": null,
      "metadata": {
        "id": "S3R-vBXb6_HA"
      },
      "outputs": [],
      "source": [
        "# assume you have the following variables defined:\n",
        "# st_curve: the space-time density matrix\n",
        "# time_index: the index of the desired time instance\n",
        "\n",
        "#store the required time instances in an array\n",
        "time_inst = [165, 499, 999, 1499]\n",
        "\n",
        "for i in time_inst:\n",
        "    # extract the density values at the desired time instance\n",
        "    density_curve = st_curve[:, i]\n",
        "\n",
        "    # create a scatter plot of the density curve\n",
        "    fig = go.Figure(data=[go.Scatter(x=np.arange(len(density_curve)), y=density_curve)])\n",
        "\n",
        "    # customize the plot layout\n",
        "    fig.update_layout(\n",
        "        title=f\"Density Variation with Space at Time = {i}\",\n",
        "        xaxis_title=\"Space\",\n",
        "        yaxis_title=\"Density\",\n",
        "    )\n",
        "\n",
        "    # show the plot\n",
        "    fig.show()\n",
        "\n",
        "    print('\\n')"
      ]
    }
  ],
  "metadata": {
    "colab": {
      "provenance": []
    },
    "kernelspec": {
      "display_name": "Python 3",
      "name": "python3"
    },
    "language_info": {
      "name": "python"
    }
  },
  "nbformat": 4,
  "nbformat_minor": 0
}